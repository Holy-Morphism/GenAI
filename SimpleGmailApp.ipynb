{
 "cells": [
  {
   "cell_type": "markdown",
   "metadata": {},
   "source": [
    "# Simple Gmail Agent with Langchain\n",
    "\n",
    "`requirements.txt`:\n",
    "\n",
    "```\n",
    "google-api-python-client\n",
    "google-auth-oauthlib\n",
    "google-auth-httplib2\n",
    "beautifulsoup4\n",
    "langchain-community\n",
    "langchain-google-community[gmail]\n",
    "langchain-google-genai\n",
    "pillow\n",
    "```\n",
    "\n",
    "This notebook demonstrates how to use Langchain to build a simple Gmail agent that can read emails and extract information from them. The agent will be able to extract the sender, subject, and body of the email, and then use Langchain to extract the language of the email and perform named entity recognition on the body of the email."
   ]
  },
  {
   "cell_type": "markdown",
   "metadata": {},
   "source": [
    "## Import dependencies"
   ]
  },
  {
   "cell_type": "code",
   "execution_count": 1,
   "metadata": {},
   "outputs": [],
   "source": [
    "from dotenv import load_dotenv\n",
    "\n",
    "from langchain import hub\n",
    "from langchain.agents import AgentExecutor, create_openai_tools_agent\n",
    "\n",
    "from langchain_openai import ChatOpenAI\n"
   ]
  },
  {
   "cell_type": "markdown",
   "metadata": {},
   "source": [
    "## Load the environment variables"
   ]
  },
  {
   "cell_type": "code",
   "execution_count": 2,
   "metadata": {},
   "outputs": [
    {
     "data": {
      "text/plain": [
       "True"
      ]
     },
     "execution_count": 2,
     "metadata": {},
     "output_type": "execute_result"
    }
   ],
   "source": [
    "load_dotenv()"
   ]
  },
  {
   "cell_type": "code",
   "execution_count": 3,
   "metadata": {},
   "outputs": [],
   "source": [
    "llm = ChatOpenAI(temperature=0)"
   ]
  },
  {
   "cell_type": "markdown",
   "metadata": {},
   "source": [
    "## Set up the Gmail API"
   ]
  },
  {
   "cell_type": "markdown",
   "metadata": {},
   "source": [
    "### Import API"
   ]
  },
  {
   "cell_type": "code",
   "execution_count": 4,
   "metadata": {},
   "outputs": [],
   "source": [
    "from langchain_google_community import GmailToolkit\n",
    "\n",
    "toolkit = GmailToolkit()"
   ]
  },
  {
   "cell_type": "markdown",
   "metadata": {},
   "source": [
    "### Set up the Gmail API"
   ]
  },
  {
   "cell_type": "code",
   "execution_count": 5,
   "metadata": {},
   "outputs": [],
   "source": [
    "from langchain_community.tools.gmail.utils import (\n",
    "    build_resource_service,\n",
    "    get_gmail_credentials,\n",
    ")\n",
    "\n",
    "# Can review scopes here https://developers.google.com/gmail/api/auth/scopes\n",
    "# For instance, readonly scope is 'https://www.googleapis.com/auth/gmail.readonly'\n",
    "credentials = get_gmail_credentials(\n",
    "    token_file=\"token.json\",\n",
    "    scopes=[\"https://mail.google.com/\"],\n",
    "    client_secrets_file=\"credentials.json\",\n",
    ")\n",
    "api_resource = build_resource_service(credentials=credentials)\n",
    "toolkit = GmailToolkit(api_resource=api_resource)"
   ]
  },
  {
   "cell_type": "markdown",
   "metadata": {},
   "source": [
    "### The tools"
   ]
  },
  {
   "cell_type": "code",
   "execution_count": 6,
   "metadata": {},
   "outputs": [
    {
     "data": {
      "text/plain": [
       "[GmailCreateDraft(api_resource=<googleapiclient.discovery.Resource object at 0x00000238C336DB50>),\n",
       " GmailSendMessage(api_resource=<googleapiclient.discovery.Resource object at 0x00000238C336DB50>),\n",
       " GmailSearch(api_resource=<googleapiclient.discovery.Resource object at 0x00000238C336DB50>),\n",
       " GmailGetMessage(api_resource=<googleapiclient.discovery.Resource object at 0x00000238C336DB50>),\n",
       " GmailGetThread(api_resource=<googleapiclient.discovery.Resource object at 0x00000238C336DB50>)]"
      ]
     },
     "execution_count": 6,
     "metadata": {},
     "output_type": "execute_result"
    }
   ],
   "source": [
    "tools = toolkit.get_tools()\n",
    "tools"
   ]
  },
  {
   "cell_type": "code",
   "execution_count": 7,
   "metadata": {},
   "outputs": [],
   "source": [
    "instructions = \"\"\"You are an assistant.\"\"\"\n",
    "base_prompt = hub.pull(\"langchain-ai/openai-functions-template\")\n",
    "prompt = base_prompt.partial(instructions=instructions)\n"
   ]
  },
  {
   "cell_type": "code",
   "execution_count": 8,
   "metadata": {},
   "outputs": [],
   "source": [
    "agent = create_openai_tools_agent(llm, toolkit.get_tools(), prompt)\n",
    "\n",
    "agent_executor = AgentExecutor(\n",
    "    agent=agent,\n",
    "    tools=toolkit.get_tools(),\n",
    "    verbose=True, #set it True to see what happens behind the scenes\n",
    ")\n"
   ]
  },
  {
   "cell_type": "code",
   "execution_count": 11,
   "metadata": {},
   "outputs": [
    {
     "name": "stdout",
     "output_type": "stream",
     "text": [
      "\n",
      "\n",
      "\u001b[1m> Entering new AgentExecutor chain...\u001b[0m\n",
      "\u001b[32;1m\u001b[1;3m\n",
      "Invoking: `search_gmail` with `{'query': 'to:me', 'max_results': 1}`\n",
      "\n",
      "\n",
      "\u001b[0m\u001b[38;5;200m\u001b[1;3m[{'id': '1913bad96874560b', 'threadId': '1913bad96874560b', 'snippet': 'Rana Adeel, respond to Muneeb&#39;s invite now. ͏ ͏ ͏ ͏ ͏ ͏ ͏ ͏ ͏ ͏ ͏ ͏ ͏ ͏ ͏ ͏ ͏ ͏ ͏ ͏ ͏ ͏ ͏ ͏ ͏ ͏ ͏ ͏ ͏ ͏ ͏ ͏ ͏ ͏ ͏ ͏ ͏ ͏ ͏ ͏ ͏ ͏ ͏ ͏ ͏ ͏ ͏ ͏ ͏ ͏ ͏ ͏ ͏ ͏ ͏ ͏ ͏ ͏ ͏ ͏ ͏ ͏ ͏ ͏ ͏ ͏ ͏ ͏ ͏ ͏ ͏ ͏ ͏ ͏ ͏ ͏ ͏', 'body': 'Rana Adeel Tahir, respond to Muneeb’s invite now.\\r\\n        \\r\\nHi Rana Adeel, I’d like to join your professional network\\r\\n\\r\\nMuneeb Raza Toor\\r\\nStudent at National University of Computer and Emerging Sciences\\r\\nFaisalabad\\r\\n29 connections in common\\r\\nSee all connections in common:https://www.linkedin.com/comm/search/results/people/?facetNetwork=%5B%22F%22%5D&facetConnectionOf=%5B%22ADoAAFDtSdMB6FsDdzRxsYRYi2v4F_AcFXHjC2U%22%5D&origin=SHARED_CONNECTIONS_CANNED_SEARCH&lipi=urn%3Ali%3Apage%3Aemail_email_m2m_invite_single_01%3BnDqSZgioTE23TPZJPc%2FzTw%3D%3D&midToken=AQHIuKVFxcePpA&midSig=1KM-5YgvXFgbo1&trk=eml-email_m2m_invite_single_01-connections~in~common~text-0-view~connections&trkEmail=eml-email_m2m_invite_single_01-connections~in~common~text-0-view~connections-null-fkcaaq~lzny8w13~6x-null-null&eid=fkcaaq-lzny8w13-6x&otpToken=MWIwMTFmZTExNzI2YzhjM2JjMjQwNGVkNDQxZGU1YmM4Y2NmZDE0NTkxYWE4ODYxNzljNjA5Njg0YzVhNWRmNWY2ZDdkZmIyNGRmOGM2Yzc1NDgxYWFlNzQyMjRiNjdhNmUwY2M0NDlmODU0YjBhY2I0NTAzYSwxLDE%3D\\r\\n\\r\\nAccept:https://www.linkedin.com/comm/mynetwork/invite-accept/invitationId/7227968866524512256/sharedKey/2RtyBZk7/?inviterVanityName=muneeb-raza-toor-41784a31a&lipi=urn%3Ali%3Apage%3Aemail_email_m2m_invite_single_01%3BnDqSZgioTE23TPZJPc%2FzTw%3D%3D&midToken=AQHIuKVFxcePpA&midSig=1KM-5YgvXFgbo1&trk=eml-email_m2m_invite_single_01-null-0-null&trkEmail=eml-email_m2m_invite_single_01-null-0-null-null-fkcaaq~lzny8w13~6x-null-null&eid=fkcaaq-lzny8w13-6x&otpToken=MWIwMTFmZTExNzI2YzhjM2JjMjQwNGVkNDQxZGU1YmM4Y2NmZDE0NTkxYWE4ODYxNzljNjA5Njg0YzVhNWRmNWY2ZDdkZmIyNGRmOGM2Yzc1NDgxYWFlNzQyMjRiNjdhNmUwY2M0NDlmODU0YjBhY2I0NTAzYSwxLDE%3D\\r\\nView profile:https://pk.linkedin.com/comm/in/muneeb-raza-toor-41784a31a?lipi=urn%3Ali%3Apage%3Aemail_email_m2m_invite_single_01%3BnDqSZgioTE23TPZJPc%2FzTw%3D%3D&midToken=AQHIuKVFxcePpA&midSig=1KM-5YgvXFgbo1&trk=eml-email_m2m_invite_single_01-null-0-null&trkEmail=eml-email_m2m_invite_single_01-null-0-null-null-fkcaaq~lzny8w13~6x-null-null&eid=fkcaaq-lzny8w13-6x&otpToken=MWIwMTFmZTExNzI2YzhjM2JjMjQwNGVkNDQxZGU1YmM4Y2NmZDE0NTkxYWE4ODYxNzljNjA5Njg0YzVhNWRmNWY2ZDdkZmIyNGRmOGM2Yzc1NDgxYWFlNzQyMjRiNjdhNmUwY2M0NDlmODU0YjBhY2I0NTAzYSwxLDE%3D\\r\\n      \\r\\n\\r\\n----------------------------------------\\r\\n\\r\\nThis email was intended for Rana Adeel Tahir (Software Engineer Intern (AI) @ PureLogics | Machine Learning, RAG)\\r\\nLearn why we included this: https://www.linkedin.com/help/linkedin/answer/4788?lang=en&lipi=urn%3Ali%3Apage%3Aemail_email_m2m_invite_single_01%3BnDqSZgioTE23TPZJPc%2FzTw%3D%3D&midToken=AQHIuKVFxcePpA&midSig=1KM-5YgvXFgbo1&trk=eml-email_m2m_invite_single_01-SecurityHelp-0-textfooterglimmer&trkEmail=eml-email_m2m_invite_single_01-SecurityHelp-0-textfooterglimmer-null-fkcaaq~lzny8w13~6x-null-null&eid=fkcaaq-lzny8w13-6x&otpToken=MWIwMTFmZTExNzI2YzhjM2JjMjQwNGVkNDQxZGU1YmM4Y2NmZDE0NTkxYWE4ODYxNzljNjA5Njg0YzVhNWRmNWY2ZDdkZmIyNGRmOGM2Yzc1NDgxYWFlNzQyMjRiNjdhNmUwY2M0NDlmODU0YjBhY2I0NTAzYSwxLDE%3D\\r\\nYou are receiving LinkedIn invitations emails.\\r\\n\\r\\nUnsubscribe: https://www.linkedin.com/comm/psettings/email-unsubscribe?lipi=urn%3Ali%3Apage%3Aemail_email_m2m_invite_single_01%3BnDqSZgioTE23TPZJPc%2FzTw%3D%3D&midToken=AQHIuKVFxcePpA&midSig=1KM-5YgvXFgbo1&trk=eml-email_m2m_invite_single_01-unsubscribe-0-textfooterglimmer&trkEmail=eml-email_m2m_invite_single_01-unsubscribe-0-textfooterglimmer-null-fkcaaq~lzny8w13~6x-null-null&eid=fkcaaq-lzny8w13-6x&loid=AQFwz2qYm064qgAAAZE7rYtLNxqLi-ncxYKYLmu2sfhmk8suemjL7FrPkB5DlfGmZrMn2fLRnyQi6vny9w3UdQ01DeVf7JoCbRc\\r\\nHelp: https://www.linkedin.com/help/linkedin/answer/67?lang=en&lipi=urn%3Ali%3Apage%3Aemail_email_m2m_invite_single_01%3BnDqSZgioTE23TPZJPc%2FzTw%3D%3D&midToken=AQHIuKVFxcePpA&midSig=1KM-5YgvXFgbo1&trk=eml-email_m2m_invite_single_01-help-0-textfooterglimmer&trkEmail=eml-email_m2m_invite_single_01-help-0-textfooterglimmer-null-fkcaaq~lzny8w13~6x-null-null&eid=fkcaaq-lzny8w13-6x&otpToken=MWIwMTFmZTExNzI2YzhjM2JjMjQwNGVkNDQxZGU1YmM4Y2NmZDE0NTkxYWE4ODYxNzljNjA5Njg0YzVhNWRmNWY2ZDdkZmIyNGRmOGM2Yzc1NDgxYWFlNzQyMjRiNjdhNmUwY2M0NDlmODU0YjBhY2I0NTAzYSwxLDE%3D\\r\\n\\r\\n© 2024 LinkedIn Corporation, 1zwnj000 West Maude Avenue, Sunnyvale, CA 94085.\\r\\nLinkedIn and the LinkedIn logo are registered trademarks of LinkedIn.', 'subject': 'I want to connect', 'sender': 'Muneeb Raza Toor <invitations@linkedin.com>'}]\u001b[0m\u001b[32;1m\u001b[1;3mThe last email you received was from Muneeb Raza Toor with the subject \"I want to connect.\" It was received recently.\u001b[0m\n",
      "\n",
      "\u001b[1m> Finished chain.\u001b[0m\n"
     ]
    },
    {
     "data": {
      "text/plain": [
       "{'input': 'Could you check at what time I was last emailed?',\n",
       " 'output': 'The last email you received was from Muneeb Raza Toor with the subject \"I want to connect.\" It was received recently.'}"
      ]
     },
     "execution_count": 11,
     "metadata": {},
     "output_type": "execute_result"
    }
   ],
   "source": [
    "agent_executor.invoke(\n",
    "    {\"input\": \"Could you check at what time I was last emailed?\"}\n",
    ")\n"
   ]
  }
 ],
 "metadata": {
  "kernelspec": {
   "display_name": "env",
   "language": "python",
   "name": "python3"
  },
  "language_info": {
   "codemirror_mode": {
    "name": "ipython",
    "version": 3
   },
   "file_extension": ".py",
   "mimetype": "text/x-python",
   "name": "python",
   "nbconvert_exporter": "python",
   "pygments_lexer": "ipython3",
   "version": "3.11.4"
  }
 },
 "nbformat": 4,
 "nbformat_minor": 2
}
