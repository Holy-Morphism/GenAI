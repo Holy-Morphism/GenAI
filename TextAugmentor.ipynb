{
  "cells": [
    {
      "cell_type": "markdown",
      "metadata": {
        "colab_type": "text",
        "id": "view-in-github"
      },
      "source": [
        "<a href=\"https://colab.research.google.com/github/Holy-Morphism/GenAI/blob/main/TextAugmentor.ipynb\" target=\"_parent\"><img src=\"https://colab.research.google.com/assets/colab-badge.svg\" alt=\"Open In Colab\"/></a>"
      ]
    },
    {
      "cell_type": "markdown",
      "metadata": {
        "id": "6hqFqQaNbQgG"
      },
      "source": [
        "# Text Augmenter\n",
        "\n",
        "## Install libraries"
      ]
    },
    {
      "cell_type": "code",
      "execution_count": null,
      "metadata": {
        "colab": {
          "base_uri": "https://localhost:8080/"
        },
        "id": "KFEBjZlzSQ2M",
        "outputId": "b78e238e-2e49-4eae-95df-77cc7ff91fae"
      },
      "outputs": [],
      "source": [
        "!pip install nltk\n",
        "!pip install git+https://github.com/PrithivirajDamodaran/Parrot_Paraphraser.git"
      ]
    },
    {
      "cell_type": "markdown",
      "metadata": {
        "id": "Y3DKxTZkbadV"
      },
      "source": [
        "## Import Libraries"
      ]
    },
    {
      "cell_type": "code",
      "execution_count": null,
      "metadata": {
        "id": "3OrrtGb8TRqY"
      },
      "outputs": [],
      "source": [
        "import json\n",
        "import random\n",
        "from nltk.corpus import wordnet\n",
        "from nltk.tokenize import word_tokenize\n",
        "from nltk.tag import pos_tag\n",
        "\n",
        "# paraphrasing\n",
        "from parrot import Parrot\n",
        "import torch\n",
        "import warnings\n",
        "warnings.filterwarnings(\"ignore\")"
      ]
    },
    {
      "cell_type": "markdown",
      "metadata": {
        "id": "NpWcNX4Xbdob"
      },
      "source": [
        "## Install Parrot"
      ]
    },
    {
      "cell_type": "code",
      "execution_count": null,
      "metadata": {
        "id": "2VbSvLRVXEb2"
      },
      "outputs": [],
      "source": [
        "parrot = Parrot(model_tag=\"prithivida/parrot_paraphraser_on_T5\")"
      ]
    },
    {
      "cell_type": "markdown",
      "metadata": {
        "id": "nxvVQv-6bgTL"
      },
      "source": [
        "## Text Augmenter Class"
      ]
    },
    {
      "cell_type": "code",
      "execution_count": null,
      "metadata": {
        "id": "VkfNkwlnSQ2N"
      },
      "outputs": [],
      "source": [
        "class TextAugmenter:\n",
        "    def __init__(self, data_path, output_path, parrot):\n",
        "        self.data_path = data_path\n",
        "        self.output_path = output_path\n",
        "        self.data = self.load_data()\n",
        "        self.parrot = parrot\n",
        "\n",
        "    def load_data(self):\n",
        "        with open(self.data_path, \"r\") as f:\n",
        "            return json.load(f)\n",
        "\n",
        "    def save_data(self):\n",
        "        with open(self.output_path, \"w\") as f:\n",
        "            json.dump(self.data, f, indent=4)\n",
        "\n",
        "    def get_synonyms(self, word):\n",
        "        \"\"\"\n",
        "        Returns a list of synonyms for a given word.\n",
        "        \"\"\"\n",
        "        synonyms = set()\n",
        "        for syn in wordnet.synsets(word):\n",
        "            for l in syn.lemmas():\n",
        "                synonym = l.name().replace(\"_\", \" \").replace(\"-\", \" \").lower()\n",
        "                synonyms.add(synonym)\n",
        "        return list(synonyms)\n",
        "\n",
        "    def apply_to_data(self, function, **kwargs):\n",
        "        \"\"\"\n",
        "        Applies a given function to the 'text' field of each data item.\n",
        "        \"\"\"\n",
        "        for item in self.data:\n",
        "            item[\"text\"] = function(item[\"text\"], **kwargs)\n",
        "\n",
        "    def random_deletion(self, text, p=0.2):\n",
        "        \"\"\"\n",
        "        Randomly deletes words from a sentence with probability p.\n",
        "        \"\"\"\n",
        "        words = text.split()\n",
        "        if len(words) == 1:\n",
        "            return text\n",
        "        new_words = []\n",
        "        for word in words:\n",
        "            r = random.uniform(0, 1)\n",
        "            if r > p:\n",
        "                new_words.append(word)\n",
        "        return \" \".join(new_words)\n",
        "\n",
        "    def random_insertion(self, text, p=0.2):\n",
        "        \"\"\"\n",
        "        Randomly inserts synonyms into a sentence with probability p.\n",
        "        \"\"\"\n",
        "        words = text.split()\n",
        "        new_words = []\n",
        "        for word in words:\n",
        "            r = random.uniform(0, 1)\n",
        "            if r < p:\n",
        "                synonyms = self.get_synonyms(word)\n",
        "                if synonyms:\n",
        "                    new_words.append(random.choice(synonyms))\n",
        "            new_words.append(word)\n",
        "        return \" \".join(new_words)\n",
        "\n",
        "    def paraphrase(self, text):\n",
        "        paraphrases = self.parrot.augment(input_phrase= text,\n",
        "                               use_gpu=True,\n",
        "                               do_diverse=True,             # Enable this to get more diverse paraphrases\n",
        "                               adequacy_threshold = 0.50,   # Lower this numbers if no paraphrases returned\n",
        "                               fluency_threshold = 0.80)\n",
        "        if paraphrases:\n",
        "            return paraphrases[0][0]  # Extract the paraphrased string\n",
        "        else:\n",
        "            return text  # Return original text if no paraphrase is generated\n",
        "\n",
        "    def synonym_replacement(self, text, p=0.2):\n",
        "        \"\"\"\n",
        "        Replaces words with synonyms with probability p.\n",
        "        \"\"\"\n",
        "        words = word_tokenize(text)\n",
        "        new_words = []\n",
        "        for word, tag in pos_tag(words):\n",
        "            r = random.uniform(0, 1)\n",
        "            if r < p:\n",
        "                synonyms = self.get_synonyms(word)\n",
        "                if synonyms:\n",
        "                    new_words.append(random.choice(synonyms))\n",
        "                else:\n",
        "                    new_words.append(word)\n",
        "            else:\n",
        "                new_words.append(word)\n",
        "        return \" \".join(new_words)"
      ]
    },
    {
      "cell_type": "code",
      "execution_count": null,
      "metadata": {
        "id": "NAdcli0FSQ2O"
      },
      "outputs": [],
      "source": [
        "augmenter = TextAugmenter(\"announcements.json\", \"augmented_data.json\", parrot)\n",
        "\n",
        "augmenter.apply_to_data(augmenter.paraphrase)  # Apply random deletion\n",
        "augmenter.save_data()  # Save intermediate result (optional)\n",
        "\n",
        "# augmenter.apply_to_data(augmenter.random_deletion, p=0.1)  # Apply random deletion\n",
        "# augmenter.save_data()  # Save intermediate result (optional)\n",
        "\n",
        "\n",
        "\n",
        "# augmenter.apply_to_data(augmenter.random_insertion, p=0.1)  # Apply random insertion\n",
        "# augmenter.save_data()  # Save intermediate result (optional)\n",
        "\n",
        "# # ... apply other functions in a similar way\n",
        "\n",
        "# augmenter.apply_to_data(augmenter.synonym_replacement, p=0.2)  # Apply synonym replacement\n",
        "# augmenter.save_data()  # Save final result"
      ]
    }
  ],
  "metadata": {
    "accelerator": "GPU",
    "colab": {
      "gpuType": "T4",
      "include_colab_link": true,
      "provenance": []
    },
    "kernelspec": {
      "display_name": "Python 3",
      "name": "python3"
    },
    "language_info": {
      "name": "python"
    }
  },
  "nbformat": 4,
  "nbformat_minor": 0
}
